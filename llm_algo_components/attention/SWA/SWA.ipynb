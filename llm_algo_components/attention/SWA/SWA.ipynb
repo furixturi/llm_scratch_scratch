{
 "cells": [
  {
   "cell_type": "markdown",
   "id": "23f1fa66",
   "metadata": {},
   "source": [
    "# Sliding Window Attention"
   ]
  },
  {
   "cell_type": "markdown",
   "id": "0b0530d6",
   "metadata": {},
   "source": []
  }
 ],
 "metadata": {
  "language_info": {
   "name": "python"
  }
 },
 "nbformat": 4,
 "nbformat_minor": 5
}
